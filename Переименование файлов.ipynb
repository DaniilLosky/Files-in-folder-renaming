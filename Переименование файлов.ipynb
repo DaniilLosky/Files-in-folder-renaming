{
 "cells": [
  {
   "cell_type": "code",
   "execution_count": null,
   "id": "5a5df971",
   "metadata": {},
   "outputs": [],
   "source": [
    "№\n",
    "import os\n",
    "\n",
    "# Путь к папке с файлами\n",
    "folder_path = '/Users/bis.partnermail.ru/Desktop/__folder_name__'\n",
    "\n",
    "# Чтение списка фамилий и имен из txt файла (меняем наименование файла-txt и по необходимости encoding)\n",
    "with open('/Users/Desktop/__test.txt__', 'r', encoding='__windows-1251__') as file:\n",
    "    names = [line.strip() for line in file.readlines()]\n",
    "\n",
    "# Переименование файлов\n",
    "for i, name in enumerate(names, 1):\n",
    "    # указываем текущее название файла и оставляем {i}-элемент, который итерируется и заменяется\n",
    "    old_filename = os.path.join(folder_path, f'11_{i}.pdf')\n",
    "    # указываем нужное название файла\n",
    "    new_filename = os.path.join(folder_path, f'{name}.pdf')\n",
    "    \n",
    "    if os.path.exists(old_filename):\n",
    "        os.rename(old_filename, new_filename)\n",
    "        print(f'Файл {old_filename} переименован в {new_filename}')\n",
    "    else:\n",
    "        print(f'Файл {old_filename} не найден')"
   ]
  }
 ],
 "metadata": {
  "kernelspec": {
   "display_name": "Python 3 (ipykernel)",
   "language": "python",
   "name": "python3"
  },
  "language_info": {
   "codemirror_mode": {
    "name": "ipython",
    "version": 3
   },
   "file_extension": ".py",
   "mimetype": "text/x-python",
   "name": "python",
   "nbconvert_exporter": "python",
   "pygments_lexer": "ipython3",
   "version": "3.11.7"
  }
 },
 "nbformat": 4,
 "nbformat_minor": 5
}
